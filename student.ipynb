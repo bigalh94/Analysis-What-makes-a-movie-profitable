{
 "cells": [
  {
   "cell_type": "markdown",
   "metadata": {},
   "source": [
    "## Final Project Submission\n",
    "\n",
    "Please fill out:\n",
    "* Student name: Alvaro Henriquez\n",
    "* Student pace: part time\n",
    "* Scheduled project review date/time: 3/24/2020 @ 4:30 PM EST\n",
    "* Instructor name: Victor Geislinger\n",
    "* Blog post URL:https://medium.com/@alvarohenriquez_93558/adjusting-for-inflation-a-simple-method-a18694169789\n"
   ]
  },
  {
   "cell_type": "markdown",
   "metadata": {},
   "source": [
    "# Analysis of the film industry: \n",
    "### What makes a film successful?\n",
    "\n",
    "Load the required libraries"
   ]
  },
  {
   "cell_type": "code",
   "execution_count": 1,
   "metadata": {},
   "outputs": [],
   "source": [
    "import pandas as pd\n",
    "import numpy as np\n",
    "import json\n",
    "import matplotlib.pyplot as plt\n",
    "%matplotlib inline\n",
    "import seaborn as sns"
   ]
  },
  {
   "attachments": {},
   "cell_type": "markdown",
   "metadata": {},
   "source": [
    "___\n",
    "\n",
    "## inflation_adjust()\n",
    "\n",
    "This function downloads a csv file that contains three columns - <i>year</i>, <i>amount</i>, and <i>inflation rate</i> and returns a dictionary. The values in the <i>amount</i> column are all equal in terms of '<i>buying power</i>'. In order to comvert the currency from any year to the equivalent in today' currency you first need to divide the value in the row for the current years value by the value from in the row for that year. The result will be the multiplier that will be use to calculate the adjusted value.The 2020 value when 1930 is $1.00 is $15.49.\n",
    "    \n",
    "   $multiplier=\\frac{15.49}{value}$\n",
    "\n",
    "Now you can multiply the value that you want to convert by the multiplier\n",
    "\n",
    "$convertedvalue = valuetoconvert * multiplier$\n",
    "\n",
    "You can get the file [here](https://www.in2013dollars.com/us/inflation/1930?amount=1![image.png](attachment:image.png)).\n",
    "\n",
    "___"
   ]
  },
  {
   "cell_type": "code",
   "execution_count": 2,
   "metadata": {},
   "outputs": [],
   "source": [
    "def inflation_adjust(file):\n",
    "    '''Takes in a csv and returns a dictionary'''\n",
    "    inflation_df = pd.read_csv(file)\n",
    "    #Calculate the multiplier\n",
    "    inflation_df.amount = round(15.49/inflation_df.amount,2)\n",
    "    return dict(zip(list(inflation_df.year), list(inflation_df.amount)))\n",
    "\n",
    "adjuster = inflation_adjust('inflation_data.csv')\n",
    " "
   ]
  },
  {
   "cell_type": "markdown",
   "metadata": {},
   "source": [
    "___\n",
    "\n",
    "This is the file that we will be working with. Download from Kaggle [here](https://www.kaggle.com/rounakbanik/the-movies-dataset).\n",
    "\n",
    "___"
   ]
  },
  {
   "cell_type": "code",
   "execution_count": 3,
   "metadata": {},
   "outputs": [
    {
     "name": "stderr",
     "output_type": "stream",
     "text": [
      "C:\\Users\\bigal\\Anaconda3\\envs\\learn-env\\lib\\site-packages\\IPython\\core\\interactiveshell.py:3058: DtypeWarning: Columns (10) have mixed types. Specify dtype option on import or set low_memory=False.\n",
      "  interactivity=interactivity, compiler=compiler, result=result)\n"
     ]
    }
   ],
   "source": [
    "movies_df = pd.read_csv('the-movies-dataset/movies_metadata.csv')"
   ]
  },
  {
   "cell_type": "markdown",
   "metadata": {},
   "source": [
    "___\n",
    "\n",
    "\n",
    "Let's get some basic info.\n",
    "\n",
    "___"
   ]
  },
  {
   "cell_type": "code",
   "execution_count": 4,
   "metadata": {},
   "outputs": [
    {
     "name": "stdout",
     "output_type": "stream",
     "text": [
      "<class 'pandas.core.frame.DataFrame'>\n",
      "RangeIndex: 45466 entries, 0 to 45465\n",
      "Data columns (total 24 columns):\n",
      "adult                    45466 non-null object\n",
      "belongs_to_collection    4494 non-null object\n",
      "budget                   45466 non-null object\n",
      "genres                   45466 non-null object\n",
      "homepage                 7782 non-null object\n",
      "id                       45466 non-null object\n",
      "imdb_id                  45449 non-null object\n",
      "original_language        45455 non-null object\n",
      "original_title           45466 non-null object\n",
      "overview                 44512 non-null object\n",
      "popularity               45461 non-null object\n",
      "poster_path              45080 non-null object\n",
      "production_companies     45463 non-null object\n",
      "production_countries     45463 non-null object\n",
      "release_date             45379 non-null object\n",
      "revenue                  45460 non-null float64\n",
      "runtime                  45203 non-null float64\n",
      "spoken_languages         45460 non-null object\n",
      "status                   45379 non-null object\n",
      "tagline                  20412 non-null object\n",
      "title                    45460 non-null object\n",
      "video                    45460 non-null object\n",
      "vote_average             45460 non-null float64\n",
      "vote_count               45460 non-null float64\n",
      "dtypes: float64(4), object(20)\n",
      "memory usage: 8.3+ MB\n"
     ]
    }
   ],
   "source": [
    "movies_df.info()"
   ]
  },
  {
   "cell_type": "markdown",
   "metadata": {},
   "source": [
    "___\n",
    "\n",
    "There are quite a few missing values, but mostly in columns that we will not use. Also, the '<i>budget</i>' column is of type object. We will need to cast it to a float.\n",
    "\n",
    "___"
   ]
  },
  {
   "cell_type": "code",
   "execution_count": 5,
   "metadata": {},
   "outputs": [
    {
     "data": {
      "text/plain": [
       "adult                        0\n",
       "belongs_to_collection    40972\n",
       "budget                       0\n",
       "genres                       0\n",
       "homepage                 37684\n",
       "id                           0\n",
       "imdb_id                     17\n",
       "original_language           11\n",
       "original_title               0\n",
       "overview                   954\n",
       "popularity                   5\n",
       "poster_path                386\n",
       "production_companies         3\n",
       "production_countries         3\n",
       "release_date                87\n",
       "revenue                      6\n",
       "runtime                    263\n",
       "spoken_languages             6\n",
       "status                      87\n",
       "tagline                  25054\n",
       "title                        6\n",
       "video                        6\n",
       "vote_average                 6\n",
       "vote_count                   6\n",
       "dtype: int64"
      ]
     },
     "execution_count": 5,
     "metadata": {},
     "output_type": "execute_result"
    }
   ],
   "source": [
    "movies_df.isnull().sum()"
   ]
  },
  {
   "cell_type": "code",
   "execution_count": 6,
   "metadata": {},
   "outputs": [
    {
     "data": {
      "text/html": [
       "<div>\n",
       "<style scoped>\n",
       "    .dataframe tbody tr th:only-of-type {\n",
       "        vertical-align: middle;\n",
       "    }\n",
       "\n",
       "    .dataframe tbody tr th {\n",
       "        vertical-align: top;\n",
       "    }\n",
       "\n",
       "    .dataframe thead th {\n",
       "        text-align: right;\n",
       "    }\n",
       "</style>\n",
       "<table border=\"1\" class=\"dataframe\">\n",
       "  <thead>\n",
       "    <tr style=\"text-align: right;\">\n",
       "      <th></th>\n",
       "      <th>revenue</th>\n",
       "      <th>runtime</th>\n",
       "      <th>vote_average</th>\n",
       "      <th>vote_count</th>\n",
       "    </tr>\n",
       "  </thead>\n",
       "  <tbody>\n",
       "    <tr>\n",
       "      <td>count</td>\n",
       "      <td>4.546000e+04</td>\n",
       "      <td>45203.000000</td>\n",
       "      <td>45460.000000</td>\n",
       "      <td>45460.000000</td>\n",
       "    </tr>\n",
       "    <tr>\n",
       "      <td>mean</td>\n",
       "      <td>1.120935e+07</td>\n",
       "      <td>94.128199</td>\n",
       "      <td>5.618207</td>\n",
       "      <td>109.897338</td>\n",
       "    </tr>\n",
       "    <tr>\n",
       "      <td>std</td>\n",
       "      <td>6.433225e+07</td>\n",
       "      <td>38.407810</td>\n",
       "      <td>1.924216</td>\n",
       "      <td>491.310374</td>\n",
       "    </tr>\n",
       "    <tr>\n",
       "      <td>min</td>\n",
       "      <td>0.000000e+00</td>\n",
       "      <td>0.000000</td>\n",
       "      <td>0.000000</td>\n",
       "      <td>0.000000</td>\n",
       "    </tr>\n",
       "    <tr>\n",
       "      <td>25%</td>\n",
       "      <td>0.000000e+00</td>\n",
       "      <td>85.000000</td>\n",
       "      <td>5.000000</td>\n",
       "      <td>3.000000</td>\n",
       "    </tr>\n",
       "    <tr>\n",
       "      <td>50%</td>\n",
       "      <td>0.000000e+00</td>\n",
       "      <td>95.000000</td>\n",
       "      <td>6.000000</td>\n",
       "      <td>10.000000</td>\n",
       "    </tr>\n",
       "    <tr>\n",
       "      <td>75%</td>\n",
       "      <td>0.000000e+00</td>\n",
       "      <td>107.000000</td>\n",
       "      <td>6.800000</td>\n",
       "      <td>34.000000</td>\n",
       "    </tr>\n",
       "    <tr>\n",
       "      <td>max</td>\n",
       "      <td>2.787965e+09</td>\n",
       "      <td>1256.000000</td>\n",
       "      <td>10.000000</td>\n",
       "      <td>14075.000000</td>\n",
       "    </tr>\n",
       "  </tbody>\n",
       "</table>\n",
       "</div>"
      ],
      "text/plain": [
       "            revenue       runtime  vote_average    vote_count\n",
       "count  4.546000e+04  45203.000000  45460.000000  45460.000000\n",
       "mean   1.120935e+07     94.128199      5.618207    109.897338\n",
       "std    6.433225e+07     38.407810      1.924216    491.310374\n",
       "min    0.000000e+00      0.000000      0.000000      0.000000\n",
       "25%    0.000000e+00     85.000000      5.000000      3.000000\n",
       "50%    0.000000e+00     95.000000      6.000000     10.000000\n",
       "75%    0.000000e+00    107.000000      6.800000     34.000000\n",
       "max    2.787965e+09   1256.000000     10.000000  14075.000000"
      ]
     },
     "execution_count": 6,
     "metadata": {},
     "output_type": "execute_result"
    }
   ],
   "source": [
    "movies_df.describe()"
   ]
  },
  {
   "cell_type": "markdown",
   "metadata": {},
   "source": [
    "___\n",
    "\n",
    "We see alot of skewness in the data. \n",
    "\n",
    "___"
   ]
  },
  {
   "cell_type": "code",
   "execution_count": 7,
   "metadata": {},
   "outputs": [
    {
     "data": {
      "text/html": [
       "<div>\n",
       "<style scoped>\n",
       "    .dataframe tbody tr th:only-of-type {\n",
       "        vertical-align: middle;\n",
       "    }\n",
       "\n",
       "    .dataframe tbody tr th {\n",
       "        vertical-align: top;\n",
       "    }\n",
       "\n",
       "    .dataframe thead th {\n",
       "        text-align: right;\n",
       "    }\n",
       "</style>\n",
       "<table border=\"1\" class=\"dataframe\">\n",
       "  <thead>\n",
       "    <tr style=\"text-align: right;\">\n",
       "      <th></th>\n",
       "      <th>adult</th>\n",
       "      <th>belongs_to_collection</th>\n",
       "      <th>budget</th>\n",
       "      <th>genres</th>\n",
       "      <th>homepage</th>\n",
       "      <th>id</th>\n",
       "      <th>imdb_id</th>\n",
       "      <th>original_language</th>\n",
       "      <th>original_title</th>\n",
       "      <th>overview</th>\n",
       "      <th>...</th>\n",
       "      <th>release_date</th>\n",
       "      <th>revenue</th>\n",
       "      <th>runtime</th>\n",
       "      <th>spoken_languages</th>\n",
       "      <th>status</th>\n",
       "      <th>tagline</th>\n",
       "      <th>title</th>\n",
       "      <th>video</th>\n",
       "      <th>vote_average</th>\n",
       "      <th>vote_count</th>\n",
       "    </tr>\n",
       "  </thead>\n",
       "  <tbody>\n",
       "    <tr>\n",
       "      <td>0</td>\n",
       "      <td>False</td>\n",
       "      <td>{'id': 10194, 'name': 'Toy Story Collection', ...</td>\n",
       "      <td>30000000</td>\n",
       "      <td>[{'id': 16, 'name': 'Animation'}, {'id': 35, '...</td>\n",
       "      <td>http://toystory.disney.com/toy-story</td>\n",
       "      <td>862</td>\n",
       "      <td>tt0114709</td>\n",
       "      <td>en</td>\n",
       "      <td>Toy Story</td>\n",
       "      <td>Led by Woody, Andy's toys live happily in his ...</td>\n",
       "      <td>...</td>\n",
       "      <td>1995-10-30</td>\n",
       "      <td>373554033.0</td>\n",
       "      <td>81.0</td>\n",
       "      <td>[{'iso_639_1': 'en', 'name': 'English'}]</td>\n",
       "      <td>Released</td>\n",
       "      <td>NaN</td>\n",
       "      <td>Toy Story</td>\n",
       "      <td>False</td>\n",
       "      <td>7.7</td>\n",
       "      <td>5415.0</td>\n",
       "    </tr>\n",
       "    <tr>\n",
       "      <td>1</td>\n",
       "      <td>False</td>\n",
       "      <td>NaN</td>\n",
       "      <td>65000000</td>\n",
       "      <td>[{'id': 12, 'name': 'Adventure'}, {'id': 14, '...</td>\n",
       "      <td>NaN</td>\n",
       "      <td>8844</td>\n",
       "      <td>tt0113497</td>\n",
       "      <td>en</td>\n",
       "      <td>Jumanji</td>\n",
       "      <td>When siblings Judy and Peter discover an encha...</td>\n",
       "      <td>...</td>\n",
       "      <td>1995-12-15</td>\n",
       "      <td>262797249.0</td>\n",
       "      <td>104.0</td>\n",
       "      <td>[{'iso_639_1': 'en', 'name': 'English'}, {'iso...</td>\n",
       "      <td>Released</td>\n",
       "      <td>Roll the dice and unleash the excitement!</td>\n",
       "      <td>Jumanji</td>\n",
       "      <td>False</td>\n",
       "      <td>6.9</td>\n",
       "      <td>2413.0</td>\n",
       "    </tr>\n",
       "    <tr>\n",
       "      <td>2</td>\n",
       "      <td>False</td>\n",
       "      <td>{'id': 119050, 'name': 'Grumpy Old Men Collect...</td>\n",
       "      <td>0</td>\n",
       "      <td>[{'id': 10749, 'name': 'Romance'}, {'id': 35, ...</td>\n",
       "      <td>NaN</td>\n",
       "      <td>15602</td>\n",
       "      <td>tt0113228</td>\n",
       "      <td>en</td>\n",
       "      <td>Grumpier Old Men</td>\n",
       "      <td>A family wedding reignites the ancient feud be...</td>\n",
       "      <td>...</td>\n",
       "      <td>1995-12-22</td>\n",
       "      <td>0.0</td>\n",
       "      <td>101.0</td>\n",
       "      <td>[{'iso_639_1': 'en', 'name': 'English'}]</td>\n",
       "      <td>Released</td>\n",
       "      <td>Still Yelling. Still Fighting. Still Ready for...</td>\n",
       "      <td>Grumpier Old Men</td>\n",
       "      <td>False</td>\n",
       "      <td>6.5</td>\n",
       "      <td>92.0</td>\n",
       "    </tr>\n",
       "  </tbody>\n",
       "</table>\n",
       "<p>3 rows × 24 columns</p>\n",
       "</div>"
      ],
      "text/plain": [
       "   adult                              belongs_to_collection    budget  \\\n",
       "0  False  {'id': 10194, 'name': 'Toy Story Collection', ...  30000000   \n",
       "1  False                                                NaN  65000000   \n",
       "2  False  {'id': 119050, 'name': 'Grumpy Old Men Collect...         0   \n",
       "\n",
       "                                              genres  \\\n",
       "0  [{'id': 16, 'name': 'Animation'}, {'id': 35, '...   \n",
       "1  [{'id': 12, 'name': 'Adventure'}, {'id': 14, '...   \n",
       "2  [{'id': 10749, 'name': 'Romance'}, {'id': 35, ...   \n",
       "\n",
       "                               homepage     id    imdb_id original_language  \\\n",
       "0  http://toystory.disney.com/toy-story    862  tt0114709                en   \n",
       "1                                   NaN   8844  tt0113497                en   \n",
       "2                                   NaN  15602  tt0113228                en   \n",
       "\n",
       "     original_title                                           overview  ...  \\\n",
       "0         Toy Story  Led by Woody, Andy's toys live happily in his ...  ...   \n",
       "1           Jumanji  When siblings Judy and Peter discover an encha...  ...   \n",
       "2  Grumpier Old Men  A family wedding reignites the ancient feud be...  ...   \n",
       "\n",
       "  release_date      revenue runtime  \\\n",
       "0   1995-10-30  373554033.0    81.0   \n",
       "1   1995-12-15  262797249.0   104.0   \n",
       "2   1995-12-22          0.0   101.0   \n",
       "\n",
       "                                    spoken_languages    status  \\\n",
       "0           [{'iso_639_1': 'en', 'name': 'English'}]  Released   \n",
       "1  [{'iso_639_1': 'en', 'name': 'English'}, {'iso...  Released   \n",
       "2           [{'iso_639_1': 'en', 'name': 'English'}]  Released   \n",
       "\n",
       "                                             tagline             title  video  \\\n",
       "0                                                NaN         Toy Story  False   \n",
       "1          Roll the dice and unleash the excitement!           Jumanji  False   \n",
       "2  Still Yelling. Still Fighting. Still Ready for...  Grumpier Old Men  False   \n",
       "\n",
       "  vote_average vote_count  \n",
       "0          7.7     5415.0  \n",
       "1          6.9     2413.0  \n",
       "2          6.5       92.0  \n",
       "\n",
       "[3 rows x 24 columns]"
      ]
     },
     "execution_count": 7,
     "metadata": {},
     "output_type": "execute_result"
    }
   ],
   "source": [
    "movies_df.head(3)"
   ]
  },
  {
   "cell_type": "markdown",
   "metadata": {},
   "source": [
    "___\n",
    "\n",
    "Several columns contains json strings, including <i>genres</i>. We'll have to deal with that. But for now let's drop columns that we do not need.\n",
    "\n",
    "___"
   ]
  },
  {
   "cell_type": "code",
   "execution_count": 8,
   "metadata": {},
   "outputs": [
    {
     "data": {
      "text/html": [
       "<div>\n",
       "<style scoped>\n",
       "    .dataframe tbody tr th:only-of-type {\n",
       "        vertical-align: middle;\n",
       "    }\n",
       "\n",
       "    .dataframe tbody tr th {\n",
       "        vertical-align: top;\n",
       "    }\n",
       "\n",
       "    .dataframe thead th {\n",
       "        text-align: right;\n",
       "    }\n",
       "</style>\n",
       "<table border=\"1\" class=\"dataframe\">\n",
       "  <thead>\n",
       "    <tr style=\"text-align: right;\">\n",
       "      <th></th>\n",
       "      <th>adult</th>\n",
       "      <th>budget</th>\n",
       "      <th>genres</th>\n",
       "      <th>id</th>\n",
       "      <th>imdb_id</th>\n",
       "      <th>original_language</th>\n",
       "      <th>original_title</th>\n",
       "      <th>popularity</th>\n",
       "      <th>production_companies</th>\n",
       "      <th>production_countries</th>\n",
       "      <th>release_date</th>\n",
       "      <th>revenue</th>\n",
       "      <th>runtime</th>\n",
       "      <th>spoken_languages</th>\n",
       "      <th>status</th>\n",
       "      <th>title</th>\n",
       "      <th>video</th>\n",
       "      <th>vote_average</th>\n",
       "      <th>vote_count</th>\n",
       "    </tr>\n",
       "  </thead>\n",
       "  <tbody>\n",
       "    <tr>\n",
       "      <td>0</td>\n",
       "      <td>False</td>\n",
       "      <td>30000000</td>\n",
       "      <td>[{'id': 16, 'name': 'Animation'}, {'id': 35, '...</td>\n",
       "      <td>862</td>\n",
       "      <td>tt0114709</td>\n",
       "      <td>en</td>\n",
       "      <td>Toy Story</td>\n",
       "      <td>21.9469</td>\n",
       "      <td>[{'name': 'Pixar Animation Studios', 'id': 3}]</td>\n",
       "      <td>[{'iso_3166_1': 'US', 'name': 'United States o...</td>\n",
       "      <td>1995-10-30</td>\n",
       "      <td>373554033.0</td>\n",
       "      <td>81.0</td>\n",
       "      <td>[{'iso_639_1': 'en', 'name': 'English'}]</td>\n",
       "      <td>Released</td>\n",
       "      <td>Toy Story</td>\n",
       "      <td>False</td>\n",
       "      <td>7.7</td>\n",
       "      <td>5415.0</td>\n",
       "    </tr>\n",
       "    <tr>\n",
       "      <td>1</td>\n",
       "      <td>False</td>\n",
       "      <td>65000000</td>\n",
       "      <td>[{'id': 12, 'name': 'Adventure'}, {'id': 14, '...</td>\n",
       "      <td>8844</td>\n",
       "      <td>tt0113497</td>\n",
       "      <td>en</td>\n",
       "      <td>Jumanji</td>\n",
       "      <td>17.0155</td>\n",
       "      <td>[{'name': 'TriStar Pictures', 'id': 559}, {'na...</td>\n",
       "      <td>[{'iso_3166_1': 'US', 'name': 'United States o...</td>\n",
       "      <td>1995-12-15</td>\n",
       "      <td>262797249.0</td>\n",
       "      <td>104.0</td>\n",
       "      <td>[{'iso_639_1': 'en', 'name': 'English'}, {'iso...</td>\n",
       "      <td>Released</td>\n",
       "      <td>Jumanji</td>\n",
       "      <td>False</td>\n",
       "      <td>6.9</td>\n",
       "      <td>2413.0</td>\n",
       "    </tr>\n",
       "    <tr>\n",
       "      <td>2</td>\n",
       "      <td>False</td>\n",
       "      <td>0</td>\n",
       "      <td>[{'id': 10749, 'name': 'Romance'}, {'id': 35, ...</td>\n",
       "      <td>15602</td>\n",
       "      <td>tt0113228</td>\n",
       "      <td>en</td>\n",
       "      <td>Grumpier Old Men</td>\n",
       "      <td>11.7129</td>\n",
       "      <td>[{'name': 'Warner Bros.', 'id': 6194}, {'name'...</td>\n",
       "      <td>[{'iso_3166_1': 'US', 'name': 'United States o...</td>\n",
       "      <td>1995-12-22</td>\n",
       "      <td>0.0</td>\n",
       "      <td>101.0</td>\n",
       "      <td>[{'iso_639_1': 'en', 'name': 'English'}]</td>\n",
       "      <td>Released</td>\n",
       "      <td>Grumpier Old Men</td>\n",
       "      <td>False</td>\n",
       "      <td>6.5</td>\n",
       "      <td>92.0</td>\n",
       "    </tr>\n",
       "  </tbody>\n",
       "</table>\n",
       "</div>"
      ],
      "text/plain": [
       "   adult    budget                                             genres     id  \\\n",
       "0  False  30000000  [{'id': 16, 'name': 'Animation'}, {'id': 35, '...    862   \n",
       "1  False  65000000  [{'id': 12, 'name': 'Adventure'}, {'id': 14, '...   8844   \n",
       "2  False         0  [{'id': 10749, 'name': 'Romance'}, {'id': 35, ...  15602   \n",
       "\n",
       "     imdb_id original_language    original_title popularity  \\\n",
       "0  tt0114709                en         Toy Story    21.9469   \n",
       "1  tt0113497                en           Jumanji    17.0155   \n",
       "2  tt0113228                en  Grumpier Old Men    11.7129   \n",
       "\n",
       "                                production_companies  \\\n",
       "0     [{'name': 'Pixar Animation Studios', 'id': 3}]   \n",
       "1  [{'name': 'TriStar Pictures', 'id': 559}, {'na...   \n",
       "2  [{'name': 'Warner Bros.', 'id': 6194}, {'name'...   \n",
       "\n",
       "                                production_countries release_date  \\\n",
       "0  [{'iso_3166_1': 'US', 'name': 'United States o...   1995-10-30   \n",
       "1  [{'iso_3166_1': 'US', 'name': 'United States o...   1995-12-15   \n",
       "2  [{'iso_3166_1': 'US', 'name': 'United States o...   1995-12-22   \n",
       "\n",
       "       revenue  runtime                                   spoken_languages  \\\n",
       "0  373554033.0     81.0           [{'iso_639_1': 'en', 'name': 'English'}]   \n",
       "1  262797249.0    104.0  [{'iso_639_1': 'en', 'name': 'English'}, {'iso...   \n",
       "2          0.0    101.0           [{'iso_639_1': 'en', 'name': 'English'}]   \n",
       "\n",
       "     status             title  video  vote_average  vote_count  \n",
       "0  Released         Toy Story  False           7.7      5415.0  \n",
       "1  Released           Jumanji  False           6.9      2413.0  \n",
       "2  Released  Grumpier Old Men  False           6.5        92.0  "
      ]
     },
     "execution_count": 8,
     "metadata": {},
     "output_type": "execute_result"
    }
   ],
   "source": [
    "# Drop uneeded columns\n",
    "movies_df.drop(columns=['belongs_to_collection','homepage','poster_path','overview','tagline'], inplace=True)\n",
    "movies_df.head(3)"
   ]
  },
  {
   "cell_type": "markdown",
   "metadata": {},
   "source": [
    "___\n",
    "\n",
    "Check '<i>status</i>' to see what values the series contains.  Looks like we only need the '<i>Released</i>' column, so we'll remove the rows for movies which were not released.\n",
    "    \n",
    "___"
   ]
  },
  {
   "cell_type": "code",
   "execution_count": 9,
   "metadata": {},
   "outputs": [
    {
     "data": {
      "text/plain": [
       "array(['Released', nan, 'Rumored', 'Post Production', 'In Production',\n",
       "       'Planned', 'Canceled'], dtype=object)"
      ]
     },
     "execution_count": 9,
     "metadata": {},
     "output_type": "execute_result"
    }
   ],
   "source": [
    "movies_df.status.unique()"
   ]
  },
  {
   "cell_type": "code",
   "execution_count": 10,
   "metadata": {},
   "outputs": [
    {
     "name": "stdout",
     "output_type": "stream",
     "text": [
      "<class 'pandas.core.frame.DataFrame'>\n",
      "Int64Index: 45014 entries, 0 to 45465\n",
      "Data columns (total 19 columns):\n",
      "adult                   45014 non-null object\n",
      "budget                  45014 non-null object\n",
      "genres                  45014 non-null object\n",
      "id                      45014 non-null object\n",
      "imdb_id                 44999 non-null object\n",
      "original_language       45004 non-null object\n",
      "original_title          45014 non-null object\n",
      "popularity              45014 non-null object\n",
      "production_companies    45014 non-null object\n",
      "production_countries    45014 non-null object\n",
      "release_date            44936 non-null object\n",
      "revenue                 45014 non-null float64\n",
      "runtime                 44763 non-null float64\n",
      "spoken_languages        45014 non-null object\n",
      "status                  45014 non-null object\n",
      "title                   45014 non-null object\n",
      "video                   45014 non-null object\n",
      "vote_average            45014 non-null float64\n",
      "vote_count              45014 non-null float64\n",
      "dtypes: float64(4), object(15)\n",
      "memory usage: 6.9+ MB\n"
     ]
    }
   ],
   "source": [
    "drop_indexes = movies_df[movies_df.status!='Released'].index\n",
    "\n",
    "movies_df.drop(drop_indexes, inplace=True)\n",
    "\n",
    "movies_df.info()"
   ]
  },
  {
   "cell_type": "code",
   "execution_count": 11,
   "metadata": {},
   "outputs": [
    {
     "data": {
      "text/plain": [
       "adult                     0\n",
       "budget                    0\n",
       "genres                    0\n",
       "id                        0\n",
       "imdb_id                  15\n",
       "original_language        10\n",
       "original_title            0\n",
       "popularity                0\n",
       "production_companies      0\n",
       "production_countries      0\n",
       "release_date             78\n",
       "revenue                   0\n",
       "runtime                 251\n",
       "spoken_languages          0\n",
       "status                    0\n",
       "title                     0\n",
       "video                     0\n",
       "vote_average              0\n",
       "vote_count                0\n",
       "dtype: int64"
      ]
     },
     "execution_count": 11,
     "metadata": {},
     "output_type": "execute_result"
    }
   ],
   "source": [
    "movies_df.isnull().sum()"
   ]
  },
  {
   "cell_type": "markdown",
   "metadata": {},
   "source": [
    "___\n",
    "\n",
    "Looking a lot better, there are still a few missing values. Since they aren't many, we'll remove '<i>release_date</i>' and '<i>imdb_id</i>'.\n",
    "\n",
    "___"
   ]
  },
  {
   "cell_type": "code",
   "execution_count": 12,
   "metadata": {},
   "outputs": [
    {
     "data": {
      "text/plain": [
       "adult                     0\n",
       "budget                    0\n",
       "genres                    0\n",
       "id                        0\n",
       "imdb_id                   0\n",
       "original_language        10\n",
       "original_title            0\n",
       "popularity                0\n",
       "production_companies      0\n",
       "production_countries      0\n",
       "release_date              0\n",
       "revenue                   0\n",
       "runtime                 238\n",
       "spoken_languages          0\n",
       "status                    0\n",
       "title                     0\n",
       "video                     0\n",
       "vote_average              0\n",
       "vote_count                0\n",
       "dtype: int64"
      ]
     },
     "execution_count": 12,
     "metadata": {},
     "output_type": "execute_result"
    }
   ],
   "source": [
    "movies_df = movies_df.dropna(how='any', subset=['release_date','imdb_id'])\n",
    "\n",
    "movies_df.isnull().sum()"
   ]
  },
  {
   "cell_type": "markdown",
   "metadata": {},
   "source": [
    "___\n",
    "\n",
    "We'll impute '<i>runtime</i>' with the mean.\n",
    "\n",
    "___"
   ]
  },
  {
   "cell_type": "code",
   "execution_count": 13,
   "metadata": {},
   "outputs": [
    {
     "name": "stdout",
     "output_type": "stream",
     "text": [
      "<class 'pandas.core.frame.DataFrame'>\n",
      "Int64Index: 44924 entries, 0 to 45465\n",
      "Data columns (total 19 columns):\n",
      "adult                   44924 non-null object\n",
      "budget                  44924 non-null object\n",
      "genres                  44924 non-null object\n",
      "id                      44924 non-null object\n",
      "imdb_id                 44924 non-null object\n",
      "original_language       44914 non-null object\n",
      "original_title          44924 non-null object\n",
      "popularity              44924 non-null object\n",
      "production_companies    44924 non-null object\n",
      "production_countries    44924 non-null object\n",
      "release_date            44924 non-null object\n",
      "revenue                 44924 non-null float64\n",
      "runtime                 44924 non-null float64\n",
      "spoken_languages        44924 non-null object\n",
      "status                  44924 non-null object\n",
      "title                   44924 non-null object\n",
      "video                   44924 non-null object\n",
      "vote_average            44924 non-null float64\n",
      "vote_count              44924 non-null float64\n",
      "dtypes: float64(4), object(15)\n",
      "memory usage: 6.9+ MB\n"
     ]
    }
   ],
   "source": [
    "movies_df.runtime.fillna(movies_df.runtime.mean(), inplace=True)\n",
    "\n",
    "movies_df.info()"
   ]
  },
  {
   "cell_type": "markdown",
   "metadata": {},
   "source": [
    "___\n",
    "\n",
    "Okay, wo now we'll go ahead and cast budget as a float so that we can use it to calculate the profit and ROI. We'll go ahead and test the inflation adjuster dictionary on the first record. We will use '<i>release_date</i>' to get our key. since the date is represented as astring, we will need to parse it for the year using split(). Let's test it here.\n",
    "\n",
    "___"
   ]
  },
  {
   "cell_type": "code",
   "execution_count": 14,
   "metadata": {},
   "outputs": [
    {
     "data": {
      "text/plain": [
       "110500000.0"
      ]
     },
     "execution_count": 14,
     "metadata": {},
     "output_type": "execute_result"
    }
   ],
   "source": [
    "movies_df.budget = movies_df.budget.astype(float)\n",
    "\n",
    "#adjuster[key]*budget --> multiplier x budget - remember?\n",
    "adjuster[int(movies_df.release_date[1].split('-')[0])]*movies_df.budget[1]"
   ]
  },
  {
   "cell_type": "markdown",
   "metadata": {},
   "source": [
    "### adjust_for_inflation()\n",
    "\n",
    "This is just a wrapper function that parses '<i>release_date</i>' for use with adjuster."
   ]
  },
  {
   "cell_type": "code",
   "execution_count": 15,
   "metadata": {},
   "outputs": [],
   "source": [
    "def adjust_for_inflation(x, column):\n",
    "    '''Takes in the dataframe and column to adjust. Parses the date string before passing to adjuster'''\n",
    "    date_str = str(x.release_date)\n",
    "    year_str = date_str.split('-')[0]\n",
    "    return round(adjuster[int(year_str)] * x[column],2)"
   ]
  },
  {
   "cell_type": "markdown",
   "metadata": {},
   "source": [
    "___\n",
    "\n",
    "### Time for some feature engineering.\n",
    "We want to analyse only movies made since 1930, the year that sound became commonplace. So we iterate over the dataframe and remove them.\n",
    "\n",
    "Next we'll divide <i>budget</i> and <i>revenue</i> by $10^6$, so that we can refer to the values inf million. This makes it easier to read the values. \n",
    "\n",
    "Now we'll create two new features <i>budget_in_2020\\\\$</i> and <i>revenue_in_2020\\\\$<i> which will hold the values for <i>budget</i> and <i>revenue</i> adjusted for inflation.\n",
    "    \n",
    "We also calculate the profit and ROI, and create the two columns to hold them.\n",
    "\n",
    "___\n",
    "$profit=revenue-budget$\n",
    "\n",
    "$ROI=\\frac{profit*100}{budget}$\n",
    "___"
   ]
  },
  {
   "cell_type": "code",
   "execution_count": 16,
   "metadata": {},
   "outputs": [],
   "source": [
    "#Let's remove movies from 1800's to 1920s.\n",
    "for yr in ('18','190','191','192'):\n",
    "    movies_df.drop(movies_df[movies_df['release_date'].str.startswith(yr)].index, inplace=True)\n",
    "\n",
    "#Let's scale down the amounts to $1M units\n",
    "movies_df['budget'] = movies_df['budget']/10**6\n",
    "movies_df['revenue'] = movies_df['revenue']/10**6\n",
    "\n",
    "#This is where we adjust for inflation\n",
    "movies_df['budget_in_2020$'] = movies_df.apply(lambda x: adjust_for_inflation(x, 'budget'),axis=1)\n",
    "movies_df['revenue_in_2020$'] = movies_df.apply(lambda x: adjust_for_inflation(x, 'revenue'),axis=1)\n",
    "\n",
    "#And calculate profit and ROI\n",
    "movies_df['profit'] = round((movies_df['revenue_in_2020$'] - movies_df['budget_in_2020$']),2)\n",
    "movies_df['ROI'] = round(((movies_df['profit'])/movies_df['budget_in_2020$'])*100,2)"
   ]
  },
  {
   "cell_type": "code",
   "execution_count": 17,
   "metadata": {},
   "outputs": [
    {
     "data": {
      "text/html": [
       "<div>\n",
       "<style scoped>\n",
       "    .dataframe tbody tr th:only-of-type {\n",
       "        vertical-align: middle;\n",
       "    }\n",
       "\n",
       "    .dataframe tbody tr th {\n",
       "        vertical-align: top;\n",
       "    }\n",
       "\n",
       "    .dataframe thead th {\n",
       "        text-align: right;\n",
       "    }\n",
       "</style>\n",
       "<table border=\"1\" class=\"dataframe\">\n",
       "  <thead>\n",
       "    <tr style=\"text-align: right;\">\n",
       "      <th></th>\n",
       "      <th>adult</th>\n",
       "      <th>budget</th>\n",
       "      <th>genres</th>\n",
       "      <th>id</th>\n",
       "      <th>imdb_id</th>\n",
       "      <th>original_language</th>\n",
       "      <th>original_title</th>\n",
       "      <th>popularity</th>\n",
       "      <th>production_companies</th>\n",
       "      <th>production_countries</th>\n",
       "      <th>...</th>\n",
       "      <th>spoken_languages</th>\n",
       "      <th>status</th>\n",
       "      <th>title</th>\n",
       "      <th>video</th>\n",
       "      <th>vote_average</th>\n",
       "      <th>vote_count</th>\n",
       "      <th>budget_in_2020$</th>\n",
       "      <th>revenue_in_2020$</th>\n",
       "      <th>profit</th>\n",
       "      <th>ROI</th>\n",
       "    </tr>\n",
       "  </thead>\n",
       "  <tbody>\n",
       "    <tr>\n",
       "      <td>0</td>\n",
       "      <td>False</td>\n",
       "      <td>30.0</td>\n",
       "      <td>[{'id': 16, 'name': 'Animation'}, {'id': 35, '...</td>\n",
       "      <td>862</td>\n",
       "      <td>tt0114709</td>\n",
       "      <td>en</td>\n",
       "      <td>Toy Story</td>\n",
       "      <td>21.9469</td>\n",
       "      <td>[{'name': 'Pixar Animation Studios', 'id': 3}]</td>\n",
       "      <td>[{'iso_3166_1': 'US', 'name': 'United States o...</td>\n",
       "      <td>...</td>\n",
       "      <td>[{'iso_639_1': 'en', 'name': 'English'}]</td>\n",
       "      <td>Released</td>\n",
       "      <td>Toy Story</td>\n",
       "      <td>False</td>\n",
       "      <td>7.7</td>\n",
       "      <td>5415.0</td>\n",
       "      <td>51.0</td>\n",
       "      <td>635.04</td>\n",
       "      <td>584.04</td>\n",
       "      <td>1145.18</td>\n",
       "    </tr>\n",
       "    <tr>\n",
       "      <td>1</td>\n",
       "      <td>False</td>\n",
       "      <td>65.0</td>\n",
       "      <td>[{'id': 12, 'name': 'Adventure'}, {'id': 14, '...</td>\n",
       "      <td>8844</td>\n",
       "      <td>tt0113497</td>\n",
       "      <td>en</td>\n",
       "      <td>Jumanji</td>\n",
       "      <td>17.0155</td>\n",
       "      <td>[{'name': 'TriStar Pictures', 'id': 559}, {'na...</td>\n",
       "      <td>[{'iso_3166_1': 'US', 'name': 'United States o...</td>\n",
       "      <td>...</td>\n",
       "      <td>[{'iso_639_1': 'en', 'name': 'English'}, {'iso...</td>\n",
       "      <td>Released</td>\n",
       "      <td>Jumanji</td>\n",
       "      <td>False</td>\n",
       "      <td>6.9</td>\n",
       "      <td>2413.0</td>\n",
       "      <td>110.5</td>\n",
       "      <td>446.76</td>\n",
       "      <td>336.26</td>\n",
       "      <td>304.31</td>\n",
       "    </tr>\n",
       "    <tr>\n",
       "      <td>2</td>\n",
       "      <td>False</td>\n",
       "      <td>0.0</td>\n",
       "      <td>[{'id': 10749, 'name': 'Romance'}, {'id': 35, ...</td>\n",
       "      <td>15602</td>\n",
       "      <td>tt0113228</td>\n",
       "      <td>en</td>\n",
       "      <td>Grumpier Old Men</td>\n",
       "      <td>11.7129</td>\n",
       "      <td>[{'name': 'Warner Bros.', 'id': 6194}, {'name'...</td>\n",
       "      <td>[{'iso_3166_1': 'US', 'name': 'United States o...</td>\n",
       "      <td>...</td>\n",
       "      <td>[{'iso_639_1': 'en', 'name': 'English'}]</td>\n",
       "      <td>Released</td>\n",
       "      <td>Grumpier Old Men</td>\n",
       "      <td>False</td>\n",
       "      <td>6.5</td>\n",
       "      <td>92.0</td>\n",
       "      <td>0.0</td>\n",
       "      <td>0.00</td>\n",
       "      <td>0.00</td>\n",
       "      <td>NaN</td>\n",
       "    </tr>\n",
       "  </tbody>\n",
       "</table>\n",
       "<p>3 rows × 23 columns</p>\n",
       "</div>"
      ],
      "text/plain": [
       "   adult  budget                                             genres     id  \\\n",
       "0  False    30.0  [{'id': 16, 'name': 'Animation'}, {'id': 35, '...    862   \n",
       "1  False    65.0  [{'id': 12, 'name': 'Adventure'}, {'id': 14, '...   8844   \n",
       "2  False     0.0  [{'id': 10749, 'name': 'Romance'}, {'id': 35, ...  15602   \n",
       "\n",
       "     imdb_id original_language    original_title popularity  \\\n",
       "0  tt0114709                en         Toy Story    21.9469   \n",
       "1  tt0113497                en           Jumanji    17.0155   \n",
       "2  tt0113228                en  Grumpier Old Men    11.7129   \n",
       "\n",
       "                                production_companies  \\\n",
       "0     [{'name': 'Pixar Animation Studios', 'id': 3}]   \n",
       "1  [{'name': 'TriStar Pictures', 'id': 559}, {'na...   \n",
       "2  [{'name': 'Warner Bros.', 'id': 6194}, {'name'...   \n",
       "\n",
       "                                production_countries  ...  \\\n",
       "0  [{'iso_3166_1': 'US', 'name': 'United States o...  ...   \n",
       "1  [{'iso_3166_1': 'US', 'name': 'United States o...  ...   \n",
       "2  [{'iso_3166_1': 'US', 'name': 'United States o...  ...   \n",
       "\n",
       "                                    spoken_languages    status  \\\n",
       "0           [{'iso_639_1': 'en', 'name': 'English'}]  Released   \n",
       "1  [{'iso_639_1': 'en', 'name': 'English'}, {'iso...  Released   \n",
       "2           [{'iso_639_1': 'en', 'name': 'English'}]  Released   \n",
       "\n",
       "              title  video vote_average vote_count budget_in_2020$  \\\n",
       "0         Toy Story  False          7.7     5415.0            51.0   \n",
       "1           Jumanji  False          6.9     2413.0           110.5   \n",
       "2  Grumpier Old Men  False          6.5       92.0             0.0   \n",
       "\n",
       "   revenue_in_2020$  profit      ROI  \n",
       "0            635.04  584.04  1145.18  \n",
       "1            446.76  336.26   304.31  \n",
       "2              0.00    0.00      NaN  \n",
       "\n",
       "[3 rows x 23 columns]"
      ]
     },
     "execution_count": 17,
     "metadata": {},
     "output_type": "execute_result"
    }
   ],
   "source": [
    "movies_df.head(3)"
   ]
  },
  {
   "cell_type": "markdown",
   "metadata": {},
   "source": [
    "___\n",
    "\n",
    "We're going to exclude records for budgets under \\\\$1M dollars. According to this article on [parlaystudios.com](https://parlaystudios.com/blog/feature-film-budget-breakdown/) the average budget for a feature film is between \\\\$70M and \\\\$90M.  \n",
    "\n",
    "___"
   ]
  },
  {
   "cell_type": "code",
   "execution_count": 18,
   "metadata": {},
   "outputs": [
    {
     "data": {
      "text/html": [
       "<div>\n",
       "<style scoped>\n",
       "    .dataframe tbody tr th:only-of-type {\n",
       "        vertical-align: middle;\n",
       "    }\n",
       "\n",
       "    .dataframe tbody tr th {\n",
       "        vertical-align: top;\n",
       "    }\n",
       "\n",
       "    .dataframe thead th {\n",
       "        text-align: right;\n",
       "    }\n",
       "</style>\n",
       "<table border=\"1\" class=\"dataframe\">\n",
       "  <thead>\n",
       "    <tr style=\"text-align: right;\">\n",
       "      <th></th>\n",
       "      <th>budget</th>\n",
       "      <th>revenue</th>\n",
       "      <th>runtime</th>\n",
       "      <th>vote_average</th>\n",
       "      <th>vote_count</th>\n",
       "      <th>budget_in_2020$</th>\n",
       "      <th>revenue_in_2020$</th>\n",
       "      <th>profit</th>\n",
       "      <th>ROI</th>\n",
       "    </tr>\n",
       "  </thead>\n",
       "  <tbody>\n",
       "    <tr>\n",
       "      <td>count</td>\n",
       "      <td>7700.000000</td>\n",
       "      <td>7700.000000</td>\n",
       "      <td>7700.000000</td>\n",
       "      <td>7700.000000</td>\n",
       "      <td>7700.000000</td>\n",
       "      <td>7700.000000</td>\n",
       "      <td>7700.000000</td>\n",
       "      <td>7700.000000</td>\n",
       "      <td>7700.000000</td>\n",
       "    </tr>\n",
       "    <tr>\n",
       "      <td>mean</td>\n",
       "      <td>24.886668</td>\n",
       "      <td>62.901615</td>\n",
       "      <td>107.965009</td>\n",
       "      <td>6.087234</td>\n",
       "      <td>532.392987</td>\n",
       "      <td>36.153431</td>\n",
       "      <td>98.704717</td>\n",
       "      <td>62.551286</td>\n",
       "      <td>174.409026</td>\n",
       "    </tr>\n",
       "    <tr>\n",
       "      <td>std</td>\n",
       "      <td>35.741702</td>\n",
       "      <td>144.965652</td>\n",
       "      <td>26.770720</td>\n",
       "      <td>1.081682</td>\n",
       "      <td>1091.509036</td>\n",
       "      <td>46.850442</td>\n",
       "      <td>243.415860</td>\n",
       "      <td>222.467455</td>\n",
       "      <td>896.859392</td>\n",
       "    </tr>\n",
       "    <tr>\n",
       "      <td>min</td>\n",
       "      <td>0.066260</td>\n",
       "      <td>0.000000</td>\n",
       "      <td>0.000000</td>\n",
       "      <td>0.000000</td>\n",
       "      <td>0.000000</td>\n",
       "      <td>1.010000</td>\n",
       "      <td>0.000000</td>\n",
       "      <td>-798.000000</td>\n",
       "      <td>-100.000000</td>\n",
       "    </tr>\n",
       "    <tr>\n",
       "      <td>25%</td>\n",
       "      <td>3.900000</td>\n",
       "      <td>0.000000</td>\n",
       "      <td>93.000000</td>\n",
       "      <td>5.500000</td>\n",
       "      <td>31.000000</td>\n",
       "      <td>6.267500</td>\n",
       "      <td>0.000000</td>\n",
       "      <td>-9.422500</td>\n",
       "      <td>-100.000000</td>\n",
       "    </tr>\n",
       "    <tr>\n",
       "      <td>50%</td>\n",
       "      <td>11.707789</td>\n",
       "      <td>8.756445</td>\n",
       "      <td>103.000000</td>\n",
       "      <td>6.200000</td>\n",
       "      <td>135.500000</td>\n",
       "      <td>19.185000</td>\n",
       "      <td>15.120000</td>\n",
       "      <td>-1.360000</td>\n",
       "      <td>-24.425000</td>\n",
       "    </tr>\n",
       "    <tr>\n",
       "      <td>75%</td>\n",
       "      <td>30.000000</td>\n",
       "      <td>58.859510</td>\n",
       "      <td>118.000000</td>\n",
       "      <td>6.800000</td>\n",
       "      <td>508.000000</td>\n",
       "      <td>45.600000</td>\n",
       "      <td>96.070000</td>\n",
       "      <td>54.222500</td>\n",
       "      <td>179.197500</td>\n",
       "    </tr>\n",
       "    <tr>\n",
       "      <td>max</td>\n",
       "      <td>380.000000</td>\n",
       "      <td>2787.965087</td>\n",
       "      <td>705.000000</td>\n",
       "      <td>10.000000</td>\n",
       "      <td>14075.000000</td>\n",
       "      <td>798.000000</td>\n",
       "      <td>7467.290000</td>\n",
       "      <td>7392.650000</td>\n",
       "      <td>31082.450000</td>\n",
       "    </tr>\n",
       "  </tbody>\n",
       "</table>\n",
       "</div>"
      ],
      "text/plain": [
       "            budget      revenue      runtime  vote_average    vote_count  \\\n",
       "count  7700.000000  7700.000000  7700.000000   7700.000000   7700.000000   \n",
       "mean     24.886668    62.901615   107.965009      6.087234    532.392987   \n",
       "std      35.741702   144.965652    26.770720      1.081682   1091.509036   \n",
       "min       0.066260     0.000000     0.000000      0.000000      0.000000   \n",
       "25%       3.900000     0.000000    93.000000      5.500000     31.000000   \n",
       "50%      11.707789     8.756445   103.000000      6.200000    135.500000   \n",
       "75%      30.000000    58.859510   118.000000      6.800000    508.000000   \n",
       "max     380.000000  2787.965087   705.000000     10.000000  14075.000000   \n",
       "\n",
       "       budget_in_2020$  revenue_in_2020$       profit           ROI  \n",
       "count      7700.000000       7700.000000  7700.000000   7700.000000  \n",
       "mean         36.153431         98.704717    62.551286    174.409026  \n",
       "std          46.850442        243.415860   222.467455    896.859392  \n",
       "min           1.010000          0.000000  -798.000000   -100.000000  \n",
       "25%           6.267500          0.000000    -9.422500   -100.000000  \n",
       "50%          19.185000         15.120000    -1.360000    -24.425000  \n",
       "75%          45.600000         96.070000    54.222500    179.197500  \n",
       "max         798.000000       7467.290000  7392.650000  31082.450000  "
      ]
     },
     "execution_count": 18,
     "metadata": {},
     "output_type": "execute_result"
    }
   ],
   "source": [
    "df_gt_1M = movies_df[movies_df['budget_in_2020$'] > 1]\n",
    "df_gt_1M.describe()"
   ]
  },
  {
   "cell_type": "markdown",
   "metadata": {},
   "source": [
    "___\n",
    "\n",
    "Now to deal with the genres. You'll recall that the genres are stored as a list of dictionaries in the form of json strings. We're going to iterate over the dataframe, using json.loads to transform the strings into pythons lists. \n",
    "\n",
    "We then iterate over the list of list to get a list of the names of the genres for each movie. We create a set of the genre names, since the list of genres has duplicates.\n",
    "\n",
    "We create a dictionary with genra names as keys and genre count as values.\n",
    "\n",
    "___"
   ]
  },
  {
   "cell_type": "code",
   "execution_count": 19,
   "metadata": {},
   "outputs": [
    {
     "name": "stdout",
     "output_type": "stream",
     "text": [
      "{'Thriller': 2190, 'Comedy': 2459, 'Foreign': 81, 'Fantasy': 667, 'Action': 1981, 'Drama': 3689, 'Western': 133, 'Horror': 993, 'Family': 686, 'Science Fiction': 891, 'War': 300, 'Crime': 1161, 'Music': 266, 'TV Movie': 35, 'Animation': 380, 'Romance': 1324, 'Documentary': 89, 'Adventure': 1217, 'Mystery': 590, 'History': 355}\n"
     ]
    }
   ],
   "source": [
    "#List of lists\n",
    "lol_of_genres = list(df_gt_1M.apply(lambda x: json.loads(x[2].replace(\"'\", '\"')), axis=1))\n",
    "\n",
    "#List of genres with duplicates\n",
    "genres_list = [d['name'] for l in lol_of_genres for d in l]\n",
    "\n",
    "#A set of genres - unique genre names\n",
    "genres_set = set(genres_list)\n",
    "\n",
    "#Dictionary {genre_name:genre_count}\n",
    "genres_dict = dict(zip(genres_set,[0]*len(genres_set) ))\n",
    "\n",
    "#Iterate over genre_list and increment genre counts\n",
    "for g in genres_list: genres_dict[g] += 1\n",
    "print(genres_dict)\n"
   ]
  },
  {
   "cell_type": "markdown",
   "metadata": {},
   "source": [
    "Now to do some analysis. We'll run several charts."
   ]
  },
  {
   "cell_type": "code",
   "execution_count": 20,
   "metadata": {},
   "outputs": [
    {
     "data": {
      "text/plain": [
       "Text(0.5, 1.0, 'Total number by genre')"
      ]
     },
     "execution_count": 20,
     "metadata": {},
     "output_type": "execute_result"
    },
    {
     "data": {
      "image/png": "[encoded data removed]",
      "text/plain": [
       "<Figure size 864x360 with 1 Axes>"
      ]
     },
     "metadata": {
      "needs_background": "light"
     },
     "output_type": "display_data"
    }
   ],
   "source": [
    "keys = genres_dict.keys()\n",
    "values = genres_dict.values()\n",
    "plt.figure(figsize=(12,5))\n",
    "plt.xticks(rotation=45, horizontalalignment='right')\n",
    "ax = sns.barplot(x=list(keys),y=list(values))\n",
    "ax.set_title('Total number by genre')"
   ]
  },
  {
   "cell_type": "markdown",
   "metadata": {},
   "source": [
    "### top_x(), top_by_genre()\n",
    "These functions will allow us to filter the data for our charts."
   ]
  },
  {
   "cell_type": "code",
   "execution_count": 21,
   "metadata": {},
   "outputs": [],
   "source": [
    "def top_x(df,col,x):\n",
    "    '''Takes a dataframe, a column, and an integer. \n",
    "    Returns the top x in descending order sorted by col'''\n",
    "    return df.sort_values(by=col,ascending=False)[:x]\n",
    "\n",
    "def top_by_genre(df,col,x,lst):\n",
    "    '''Wraps top_x() to return count by genre'''\n",
    "    return [top_x(df,col,x)['genres'].str.contains(gen).sum() for gen in list(lst)]"
   ]
  },
  {
   "cell_type": "code",
   "execution_count": 22,
   "metadata": {},
   "outputs": [],
   "source": [
    "top_profit_by_genres = top_by_genre(df_gt_1M,'profit',100,keys)"
   ]
  },
  {
   "cell_type": "code",
   "execution_count": 23,
   "metadata": {},
   "outputs": [
    {
     "data": {
      "image/png": "[encoded data removed]",
      "text/plain": [
       "<Figure size 864x360 with 1 Axes>"
      ]
     },
     "metadata": {
      "needs_background": "light"
     },
     "output_type": "display_data"
    }
   ],
   "source": [
    "plt.figure(figsize=(12,5))\n",
    "plt.xticks(rotation=45, horizontalalignment='right')\n",
    "ax = sns.barplot(x=list(keys),y=top_profit_by_genres)\n",
    "ax.set_title('Top 100 in profit by genre')\n",
    "plt.savefig('Top 100 in profit by genre.png', dpi=300)"
   ]
  },
  {
   "cell_type": "code",
   "execution_count": 24,
   "metadata": {},
   "outputs": [],
   "source": [
    "top_ROI_by_genres = top_by_genre(df_gt_1M,'ROI',100,keys)"
   ]
  },
  {
   "cell_type": "code",
   "execution_count": 25,
   "metadata": {},
   "outputs": [
    {
     "data": {
      "image/png": "[encoded data removed]",
      "text/plain": [
       "<Figure size 864x360 with 1 Axes>"
      ]
     },
     "metadata": {
      "needs_background": "light"
     },
     "output_type": "display_data"
    }
   ],
   "source": [
    "plt.figure(figsize=(12,5))\n",
    "plt.xticks(rotation=45, horizontalalignment='right')\n",
    "ax = sns.barplot(x=list(keys),y=top_ROI_by_genres)\n",
    "ax.set_title('Top 100 in ROI by genre')\n",
    "plt.savefig('Top 100 in ROI by genre.png', dpi=300)"
   ]
  },
  {
   "cell_type": "code",
   "execution_count": 26,
   "metadata": {},
   "outputs": [],
   "source": [
    "top_runtime_by_genres =  top_by_genre(df_gt_1M,'runtime',100,keys)"
   ]
  },
  {
   "cell_type": "code",
   "execution_count": 27,
   "metadata": {},
   "outputs": [
    {
     "data": {
      "image/png": "[encoded data removed]",
      "text/plain": [
       "<Figure size 864x360 with 1 Axes>"
      ]
     },
     "metadata": {
      "needs_background": "light"
     },
     "output_type": "display_data"
    }
   ],
   "source": [
    "plt.figure(figsize=(12,5))\n",
    "plt.xticks(rotation=45, horizontalalignment='right')\n",
    "ax = sns.barplot(x=list(keys),y=top_runtime_by_genres)\n",
    "ax.set_title('Top 100 in runtime by genre')\n",
    "plt.savefig('Top 100 in runtime by genre.png', dpi=300)"
   ]
  },
  {
   "cell_type": "markdown",
   "metadata": {},
   "source": [
    "Found this function on [stackoverflow](https://stackoverflow.com/questions/24290025/python-enumerate-downwards-or-with-a-custom-step). Perfect for my solution where I need to plot two chart through each iteration of the for loop. "
   ]
  },
  {
   "cell_type": "code",
   "execution_count": 28,
   "metadata": {},
   "outputs": [],
   "source": [
    "#enumerates with option for steps.\n",
    "def enumerate2(xs, start=0, step=1):\n",
    "    for x in xs:\n",
    "        yield (start, x)\n",
    "        start += step"
   ]
  },
  {
   "cell_type": "markdown",
   "metadata": {},
   "source": [
    "__\n",
    "\n",
    "This code will plot a pair of bar charts (ROI and profit) by genre for each 20 year span. This allows us to examine the performance of each genre over time.\n",
    "\n",
    "___"
   ]
  },
  {
   "cell_type": "code",
   "execution_count": 31,
   "metadata": {},
   "outputs": [
    {
     "data": {
      "image/png": "[encoded data removed]",
      "text/plain": [
       "<Figure size 1008x1728 with 10 Axes>"
      ]
     },
     "metadata": {
      "needs_background": "light"
     },
     "output_type": "display_data"
    }
   ],
   "source": [
    "\n",
    "fig,ax = plt.subplots(figsize=(14,24), ncols=2, nrows=5)\n",
    "plt.subplots_adjust(hspace=1)\n",
    "plt.xticks(rotation=45, horizontalalignment='right')\n",
    "\n",
    "x = 100 #This is the 'x' in 'top_x'\n",
    "#List of strings used for filtering two decades spans from the df \n",
    "years = ['193|194','195|196','197|198','199|200','201|202']\n",
    "for i,yr in enumerate2(years, step=2):    \n",
    "    ndf = df_gt_1M[df_gt_1M['release_date'].str.contains(str(yr))]\n",
    "    tail = yr.split('|')\n",
    "    tail[0] += '0'  #complete the year - '193' becomes '1930'\n",
    "    tail[1] += '9'  #ditto\n",
    "    \n",
    "    top = top_by_genre(ndf,'ROI',x,keys)\n",
    "    sns.barplot(x=list(keys),y=top, ax=ax[i//2][i%2] )\n",
    "    ax[i//2][i%2].set_xticklabels(labels=list(keys), rotation=90)\n",
    "    ax[i//2][i%2].set_title(f'Top {x} in ROI by genre from {tail[0]} to {tail[1]}')\n",
    "    \n",
    "    i+=1\n",
    "    top = top_by_genre(ndf,'profit',x,keys)\n",
    "    sns.barplot(x=list(keys),y=top, ax=ax[i//2][i%2] )\n",
    "    ax[i//2][i%2].set_xticklabels(labels=list(keys), rotation=90)\n",
    "    ax[i//2][i%2].set_title(f'Top {x} in profit by genre from {tail[0]} to {tail[1]}')\n",
    "    \n",
    "plt.savefig('Top {x} in a 20 year span.png', dpi=300)\n"
   ]
  },
  {
   "cell_type": "code",
   "execution_count": null,
   "metadata": {},
   "outputs": [],
   "source": []
  },
  {
   "cell_type": "code",
   "execution_count": null,
   "metadata": {},
   "outputs": [],
   "source": []
  }
 ],
 "metadata": {
  "kernelspec": {
   "display_name": "Python [conda env:learn-env] *",
   "language": "python",
   "name": "conda-env-learn-env-py"
  },
  "language_info": {
   "codemirror_mode": {
    "name": "ipython",
    "version": 3
   },
   "file_extension": ".py",
   "mimetype": "text/x-python",
   "name": "python",
   "nbconvert_exporter": "python",
   "pygments_lexer": "ipython3",
   "version": "3.6.9"
  }
 },
 "nbformat": 4,
 "nbformat_minor": 2
}
